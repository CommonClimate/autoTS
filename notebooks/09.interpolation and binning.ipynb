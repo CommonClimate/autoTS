{
 "cells": [
  {
   "cell_type": "code",
   "execution_count": 53,
   "metadata": {},
   "outputs": [],
   "source": [
    "from itertools import combinations,chain,product\n",
    "from pyleoclim.utils import tsutils\n",
    "import pandas as pd\n",
    "import numpy as np\n",
    "import matplotlib.pyplot as plt\n",
    "import math\n",
    "from sklearn.metrics import mean_squared_error\n",
    "import seaborn as sns\n",
    "%matplotlib inline\n",
    "import warnings\n",
    "warnings.filterwarnings('ignore')"
   ]
  },
  {
   "cell_type": "code",
   "execution_count": 54,
   "metadata": {},
   "outputs": [],
   "source": [
    "plt.show()"
   ]
  },
  {
   "cell_type": "code",
   "execution_count": 55,
   "metadata": {},
   "outputs": [],
   "source": [
    "trend = ['No','Linear','Non_Linear']\n",
    "freq = ['Constant','Two_Constant','Two_Close','Variant']\n",
    "method = ['linear','cubic']\n",
    "delete_perc = [0.2,0.4,0.6,0.8]\n",
    "snr = [0,0.25,0.5,1,2,4,5]"
   ]
  },
  {
   "cell_type": "code",
   "execution_count": 56,
   "metadata": {},
   "outputs": [],
   "source": [
    "def generate_signal(kind):\n",
    "    series = pd.Series()\n",
    "    if (kind == 'Constant'):\n",
    "        time = np.arange(2001)\n",
    "        f = 1/50\n",
    "        signal = np.cos(2*np.pi*f*time)\n",
    "\n",
    "        series = pd.Series(signal, index=time)\n",
    "    \n",
    "    elif kind =='Two_Constant':\n",
    "        time1 = np.arange(1000)\n",
    "        f1 = 1/50\n",
    "        signal1 = np.cos(2*np.pi*f1*time1)\n",
    "\n",
    "        time2 = np.arange(1000, 2001)\n",
    "        f2 = 1/100\n",
    "        signal2 = np.cos(2*np.pi*f2*time2)\n",
    "\n",
    "        signal = np.concatenate([signal1, signal2])\n",
    "        time = np.concatenate([time1, time2])\n",
    "\n",
    "        series = pd.Series(signal, index=time)\n",
    "    \n",
    "    elif kind == 'Two_Close':\n",
    "        time1 = np.arange(1000)\n",
    "        f1 = 1/50\n",
    "        signal1 = np.cos(2*np.pi*f1*time1)\n",
    "\n",
    "        time2 = np.arange(1000, 2001)\n",
    "        f2 = 1/55\n",
    "        signal2 = np.cos(2*np.pi*f2*time2)\n",
    "\n",
    "        signal = np.concatenate([signal1, signal2])\n",
    "        time = np.concatenate([time1, time2])\n",
    "\n",
    "        series = pd.Series(signal, index=time)\n",
    "        return series\n",
    "    \n",
    "    elif kind == 'Variant':\n",
    "        time = np.arange(2001)\n",
    "        f = 1/100000*(time+1)\n",
    "        signal = np.cos(2*np.pi*f*time)\n",
    "        series = pd.Series(signal, index=time)\n",
    "\n",
    "\n",
    "        \n",
    "        \n",
    "    return series\n",
    "    \n",
    "    "
   ]
  },
  {
   "cell_type": "code",
   "execution_count": 57,
   "metadata": {},
   "outputs": [],
   "source": [
    "def add_trend(signal,kind):\n",
    "    time = signal.index\n",
    "    trend = 0\n",
    "    if (kind=='linear'):\n",
    "        slope = 0.01\n",
    "        intercept = -1\n",
    "        trend = slope*time + intercept\n",
    "    else:\n",
    "        slope = 1e-5\n",
    "        intercept = -1\n",
    "        trend = slope*time**2 + intercept\n",
    "    \n",
    "    signal+= trend\n",
    "    return signal\n",
    "        \n",
    "        \n",
    "    "
   ]
  },
  {
   "cell_type": "code",
   "execution_count": 58,
   "metadata": {},
   "outputs": [],
   "source": [
    "def delete_points(signal,del_percent):\n",
    "    time = signal.index\n",
    "   \n",
    "    n_del = math.floor(del_percent*np.size(time))\n",
    "    deleted_idx = np.random.choice(range(np.size(time)), n_del, replace=False)\n",
    "        \n",
    "    signal_unevenly =  np.delete(signal.values, deleted_idx)\n",
    "    time = np.delete(time,deleted_idx)\n",
    "    \n",
    "    series = pd.Series(signal_unevenly,index=time)\n",
    "    return series\n",
    "        \n",
    "    \n",
    "    "
   ]
  },
  {
   "cell_type": "code",
   "execution_count": 59,
   "metadata": {},
   "outputs": [],
   "source": [
    "def add_white_noise (signal,snr):\n",
    "    np.random.seed(2333)\n",
    "    time = signal.index\n",
    "    sig_var = np.var(signal)\n",
    "    noise_var = sig_var/snr\n",
    "    white_noise = np.random.normal(0, np.sqrt(noise_var), size=np.size(signal))\n",
    "    signal_noise = signal + white_noise\n",
    "    series = pd.Series(signal_noise, index=time)\n",
    "    return series"
   ]
  },
  {
   "cell_type": "code",
   "execution_count": 60,
   "metadata": {},
   "outputs": [],
   "source": [
    "diff_combinations = list(product(freq,trend,delete_perc,snr,method))"
   ]
  },
  {
   "cell_type": "code",
   "execution_count": 10,
   "metadata": {},
   "outputs": [],
   "source": [
    "result = pd.DataFrame(columns=['Method','Frequency','Deleted Percent','Trend','White Noise','RMSE'])\n",
    "for value in diff_combinations:\n",
    "    freq,trend,del_perc,snr,method = value\n",
    "    \n",
    "    signal = generate_signal(freq)\n",
    "    if trend  != 'No':\n",
    "        signal = add_trend(signal,trend)\n",
    "    if snr!=0:\n",
    "        signal = add_white_noise(signal,snr)\n",
    "    \n",
    "    uneven_signal = delete_points(signal,del_perc)\n",
    "    reconstructed_signal = tsutils.interp(uneven_signal.index,uneven_signal,interp_step=1,start = signal.index[0],\n",
    "                                                    end=signal.index[-1]+1,interp_type=method,fill_value='extrapolate')\n",
    "    reconstructed_signal = pd.Series(reconstructed_signal[1],index = reconstructed_signal[0])\n",
    "   \n",
    "    \n",
    "    rmse = np.sqrt(mean_squared_error(reconstructed_signal,signal))\n",
    "    temp = [method,freq,del_perc,trend,snr,rmse]\n",
    "    result.loc[len(result.index)+1] = temp\n",
    "    result.append(temp,ignore_index=True)\n",
    "    \n",
    "    \n",
    "    \n"
   ]
  },
  {
   "cell_type": "code",
   "execution_count": 11,
   "metadata": {},
   "outputs": [
    {
     "data": {
      "text/html": [
       "<div>\n",
       "<style scoped>\n",
       "    .dataframe tbody tr th:only-of-type {\n",
       "        vertical-align: middle;\n",
       "    }\n",
       "\n",
       "    .dataframe tbody tr th {\n",
       "        vertical-align: top;\n",
       "    }\n",
       "\n",
       "    .dataframe thead th {\n",
       "        text-align: right;\n",
       "    }\n",
       "</style>\n",
       "<table border=\"1\" class=\"dataframe\">\n",
       "  <thead>\n",
       "    <tr style=\"text-align: right;\">\n",
       "      <th></th>\n",
       "      <th>Method</th>\n",
       "      <th>Frequency</th>\n",
       "      <th>Deleted Percent</th>\n",
       "      <th>Trend</th>\n",
       "      <th>White Noise</th>\n",
       "      <th>RMSE</th>\n",
       "    </tr>\n",
       "  </thead>\n",
       "  <tbody>\n",
       "    <tr>\n",
       "      <th>1</th>\n",
       "      <td>linear</td>\n",
       "      <td>Constant</td>\n",
       "      <td>0.2</td>\n",
       "      <td>No</td>\n",
       "      <td>0</td>\n",
       "      <td>0.004028</td>\n",
       "    </tr>\n",
       "    <tr>\n",
       "      <th>2</th>\n",
       "      <td>cubic</td>\n",
       "      <td>Constant</td>\n",
       "      <td>0.2</td>\n",
       "      <td>No</td>\n",
       "      <td>0</td>\n",
       "      <td>0.000030</td>\n",
       "    </tr>\n",
       "    <tr>\n",
       "      <th>3</th>\n",
       "      <td>linear</td>\n",
       "      <td>Constant</td>\n",
       "      <td>0.2</td>\n",
       "      <td>No</td>\n",
       "      <td>0.25</td>\n",
       "      <td>0.805397</td>\n",
       "    </tr>\n",
       "    <tr>\n",
       "      <th>4</th>\n",
       "      <td>cubic</td>\n",
       "      <td>Constant</td>\n",
       "      <td>0.2</td>\n",
       "      <td>No</td>\n",
       "      <td>0.25</td>\n",
       "      <td>1.073597</td>\n",
       "    </tr>\n",
       "    <tr>\n",
       "      <th>5</th>\n",
       "      <td>linear</td>\n",
       "      <td>Constant</td>\n",
       "      <td>0.2</td>\n",
       "      <td>No</td>\n",
       "      <td>0.5</td>\n",
       "      <td>0.569628</td>\n",
       "    </tr>\n",
       "  </tbody>\n",
       "</table>\n",
       "</div>"
      ],
      "text/plain": [
       "   Method Frequency  Deleted Percent Trend White Noise      RMSE\n",
       "1  linear  Constant              0.2    No           0  0.004028\n",
       "2   cubic  Constant              0.2    No           0  0.000030\n",
       "3  linear  Constant              0.2    No        0.25  0.805397\n",
       "4   cubic  Constant              0.2    No        0.25  1.073597\n",
       "5  linear  Constant              0.2    No         0.5  0.569628"
      ]
     },
     "execution_count": 11,
     "metadata": {},
     "output_type": "execute_result"
    }
   ],
   "source": [
    "result.head()"
   ]
  },
  {
   "cell_type": "code",
   "execution_count": 12,
   "metadata": {},
   "outputs": [],
   "source": [
    "rmse_diff = result.loc[result['Method']=='cubic']['RMSE'].values - result.loc[result['Method']=='linear']['RMSE'].values"
   ]
  },
  {
   "cell_type": "code",
   "execution_count": 14,
   "metadata": {},
   "outputs": [
    {
     "data": {
      "text/plain": [
       "20.22498095592602"
      ]
     },
     "execution_count": 14,
     "metadata": {},
     "output_type": "execute_result"
    }
   ],
   "source": [
    "max(rmse_diff)"
   ]
  },
  {
   "cell_type": "code",
   "execution_count": 15,
   "metadata": {},
   "outputs": [
    {
     "data": {
      "text/plain": [
       "-0.17245270078008507"
      ]
     },
     "execution_count": 15,
     "metadata": {},
     "output_type": "execute_result"
    }
   ],
   "source": [
    "min(rmse_diff)"
   ]
  },
  {
   "cell_type": "code",
   "execution_count": 16,
   "metadata": {},
   "outputs": [
    {
     "data": {
      "text/plain": [
       "3.1900239829777557"
      ]
     },
     "execution_count": 16,
     "metadata": {},
     "output_type": "execute_result"
    }
   ],
   "source": [
    "np.mean(rmse_diff)"
   ]
  },
  {
   "cell_type": "code",
   "execution_count": 17,
   "metadata": {},
   "outputs": [
    {
     "data": {
      "text/plain": [
       "1.6156702881980385"
      ]
     },
     "execution_count": 17,
     "metadata": {},
     "output_type": "execute_result"
    }
   ],
   "source": [
    "np.median(rmse_diff)"
   ]
  },
  {
   "cell_type": "code",
   "execution_count": 18,
   "metadata": {},
   "outputs": [
    {
     "data": {
      "text/plain": [
       "0.18249563906996372"
      ]
     },
     "execution_count": 18,
     "metadata": {},
     "output_type": "execute_result"
    }
   ],
   "source": [
    "np.quantile(rmse_diff,0.25)"
   ]
  },
  {
   "cell_type": "code",
   "execution_count": 19,
   "metadata": {},
   "outputs": [],
   "source": [
    "df =result[['Frequency', 'Deleted Percent','Trend','White Noise']]"
   ]
  },
  {
   "cell_type": "code",
   "execution_count": 20,
   "metadata": {},
   "outputs": [],
   "source": [
    "df =df.drop_duplicates()"
   ]
  },
  {
   "cell_type": "code",
   "execution_count": 21,
   "metadata": {},
   "outputs": [],
   "source": [
    "df.reset_index(inplace=True,drop=True)"
   ]
  },
  {
   "cell_type": "code",
   "execution_count": 22,
   "metadata": {},
   "outputs": [
    {
     "data": {
      "text/html": [
       "<div>\n",
       "<style scoped>\n",
       "    .dataframe tbody tr th:only-of-type {\n",
       "        vertical-align: middle;\n",
       "    }\n",
       "\n",
       "    .dataframe tbody tr th {\n",
       "        vertical-align: top;\n",
       "    }\n",
       "\n",
       "    .dataframe thead th {\n",
       "        text-align: right;\n",
       "    }\n",
       "</style>\n",
       "<table border=\"1\" class=\"dataframe\">\n",
       "  <thead>\n",
       "    <tr style=\"text-align: right;\">\n",
       "      <th></th>\n",
       "      <th>Frequency</th>\n",
       "      <th>Deleted Percent</th>\n",
       "      <th>Trend</th>\n",
       "      <th>White Noise</th>\n",
       "    </tr>\n",
       "  </thead>\n",
       "  <tbody>\n",
       "    <tr>\n",
       "      <th>0</th>\n",
       "      <td>Constant</td>\n",
       "      <td>0.2</td>\n",
       "      <td>No</td>\n",
       "      <td>0</td>\n",
       "    </tr>\n",
       "    <tr>\n",
       "      <th>1</th>\n",
       "      <td>Constant</td>\n",
       "      <td>0.2</td>\n",
       "      <td>No</td>\n",
       "      <td>0.25</td>\n",
       "    </tr>\n",
       "    <tr>\n",
       "      <th>2</th>\n",
       "      <td>Constant</td>\n",
       "      <td>0.2</td>\n",
       "      <td>No</td>\n",
       "      <td>0.5</td>\n",
       "    </tr>\n",
       "    <tr>\n",
       "      <th>3</th>\n",
       "      <td>Constant</td>\n",
       "      <td>0.2</td>\n",
       "      <td>No</td>\n",
       "      <td>1</td>\n",
       "    </tr>\n",
       "    <tr>\n",
       "      <th>4</th>\n",
       "      <td>Constant</td>\n",
       "      <td>0.2</td>\n",
       "      <td>No</td>\n",
       "      <td>2</td>\n",
       "    </tr>\n",
       "    <tr>\n",
       "      <th>...</th>\n",
       "      <td>...</td>\n",
       "      <td>...</td>\n",
       "      <td>...</td>\n",
       "      <td>...</td>\n",
       "    </tr>\n",
       "    <tr>\n",
       "      <th>331</th>\n",
       "      <td>Variant</td>\n",
       "      <td>0.8</td>\n",
       "      <td>Non_Linear</td>\n",
       "      <td>0.5</td>\n",
       "    </tr>\n",
       "    <tr>\n",
       "      <th>332</th>\n",
       "      <td>Variant</td>\n",
       "      <td>0.8</td>\n",
       "      <td>Non_Linear</td>\n",
       "      <td>1</td>\n",
       "    </tr>\n",
       "    <tr>\n",
       "      <th>333</th>\n",
       "      <td>Variant</td>\n",
       "      <td>0.8</td>\n",
       "      <td>Non_Linear</td>\n",
       "      <td>2</td>\n",
       "    </tr>\n",
       "    <tr>\n",
       "      <th>334</th>\n",
       "      <td>Variant</td>\n",
       "      <td>0.8</td>\n",
       "      <td>Non_Linear</td>\n",
       "      <td>4</td>\n",
       "    </tr>\n",
       "    <tr>\n",
       "      <th>335</th>\n",
       "      <td>Variant</td>\n",
       "      <td>0.8</td>\n",
       "      <td>Non_Linear</td>\n",
       "      <td>5</td>\n",
       "    </tr>\n",
       "  </tbody>\n",
       "</table>\n",
       "<p>336 rows × 4 columns</p>\n",
       "</div>"
      ],
      "text/plain": [
       "    Frequency  Deleted Percent       Trend White Noise\n",
       "0    Constant              0.2          No           0\n",
       "1    Constant              0.2          No        0.25\n",
       "2    Constant              0.2          No         0.5\n",
       "3    Constant              0.2          No           1\n",
       "4    Constant              0.2          No           2\n",
       "..        ...              ...         ...         ...\n",
       "331   Variant              0.8  Non_Linear         0.5\n",
       "332   Variant              0.8  Non_Linear           1\n",
       "333   Variant              0.8  Non_Linear           2\n",
       "334   Variant              0.8  Non_Linear           4\n",
       "335   Variant              0.8  Non_Linear           5\n",
       "\n",
       "[336 rows x 4 columns]"
      ]
     },
     "execution_count": 22,
     "metadata": {},
     "output_type": "execute_result"
    }
   ],
   "source": [
    "df"
   ]
  },
  {
   "cell_type": "code",
   "execution_count": 23,
   "metadata": {},
   "outputs": [],
   "source": [
    "df['RMSE_diff'] = rmse_diff"
   ]
  },
  {
   "cell_type": "code",
   "execution_count": 24,
   "metadata": {},
   "outputs": [],
   "source": [
    "distinct_freq_values = df['Frequency'].unique()"
   ]
  },
  {
   "cell_type": "code",
   "execution_count": 25,
   "metadata": {},
   "outputs": [
    {
     "data": {
      "text/html": [
       "<div>\n",
       "<style scoped>\n",
       "    .dataframe tbody tr th:only-of-type {\n",
       "        vertical-align: middle;\n",
       "    }\n",
       "\n",
       "    .dataframe tbody tr th {\n",
       "        vertical-align: top;\n",
       "    }\n",
       "\n",
       "    .dataframe thead th {\n",
       "        text-align: right;\n",
       "    }\n",
       "</style>\n",
       "<table border=\"1\" class=\"dataframe\">\n",
       "  <thead>\n",
       "    <tr style=\"text-align: right;\">\n",
       "      <th></th>\n",
       "      <th>Frequency</th>\n",
       "      <th>Deleted Percent</th>\n",
       "      <th>Trend</th>\n",
       "      <th>White Noise</th>\n",
       "      <th>RMSE_diff</th>\n",
       "    </tr>\n",
       "  </thead>\n",
       "  <tbody>\n",
       "    <tr>\n",
       "      <th>0</th>\n",
       "      <td>Constant</td>\n",
       "      <td>0.2</td>\n",
       "      <td>No</td>\n",
       "      <td>0</td>\n",
       "      <td>-0.003998</td>\n",
       "    </tr>\n",
       "    <tr>\n",
       "      <th>1</th>\n",
       "      <td>Constant</td>\n",
       "      <td>0.2</td>\n",
       "      <td>No</td>\n",
       "      <td>0.25</td>\n",
       "      <td>0.268200</td>\n",
       "    </tr>\n",
       "    <tr>\n",
       "      <th>2</th>\n",
       "      <td>Constant</td>\n",
       "      <td>0.2</td>\n",
       "      <td>No</td>\n",
       "      <td>0.5</td>\n",
       "      <td>0.189518</td>\n",
       "    </tr>\n",
       "    <tr>\n",
       "      <th>3</th>\n",
       "      <td>Constant</td>\n",
       "      <td>0.2</td>\n",
       "      <td>No</td>\n",
       "      <td>1</td>\n",
       "      <td>0.133877</td>\n",
       "    </tr>\n",
       "    <tr>\n",
       "      <th>4</th>\n",
       "      <td>Constant</td>\n",
       "      <td>0.2</td>\n",
       "      <td>No</td>\n",
       "      <td>2</td>\n",
       "      <td>0.094527</td>\n",
       "    </tr>\n",
       "    <tr>\n",
       "      <th>...</th>\n",
       "      <td>...</td>\n",
       "      <td>...</td>\n",
       "      <td>...</td>\n",
       "      <td>...</td>\n",
       "      <td>...</td>\n",
       "    </tr>\n",
       "    <tr>\n",
       "      <th>331</th>\n",
       "      <td>Variant</td>\n",
       "      <td>0.8</td>\n",
       "      <td>Non_Linear</td>\n",
       "      <td>0.5</td>\n",
       "      <td>14.244495</td>\n",
       "    </tr>\n",
       "    <tr>\n",
       "      <th>332</th>\n",
       "      <td>Variant</td>\n",
       "      <td>0.8</td>\n",
       "      <td>Non_Linear</td>\n",
       "      <td>1</td>\n",
       "      <td>10.072880</td>\n",
       "    </tr>\n",
       "    <tr>\n",
       "      <th>333</th>\n",
       "      <td>Variant</td>\n",
       "      <td>0.8</td>\n",
       "      <td>Non_Linear</td>\n",
       "      <td>2</td>\n",
       "      <td>7.122670</td>\n",
       "    </tr>\n",
       "    <tr>\n",
       "      <th>334</th>\n",
       "      <td>Variant</td>\n",
       "      <td>0.8</td>\n",
       "      <td>Non_Linear</td>\n",
       "      <td>4</td>\n",
       "      <td>5.035941</td>\n",
       "    </tr>\n",
       "    <tr>\n",
       "      <th>335</th>\n",
       "      <td>Variant</td>\n",
       "      <td>0.8</td>\n",
       "      <td>Non_Linear</td>\n",
       "      <td>5</td>\n",
       "      <td>4.503904</td>\n",
       "    </tr>\n",
       "  </tbody>\n",
       "</table>\n",
       "<p>336 rows × 5 columns</p>\n",
       "</div>"
      ],
      "text/plain": [
       "    Frequency  Deleted Percent       Trend White Noise  RMSE_diff\n",
       "0    Constant              0.2          No           0  -0.003998\n",
       "1    Constant              0.2          No        0.25   0.268200\n",
       "2    Constant              0.2          No         0.5   0.189518\n",
       "3    Constant              0.2          No           1   0.133877\n",
       "4    Constant              0.2          No           2   0.094527\n",
       "..        ...              ...         ...         ...        ...\n",
       "331   Variant              0.8  Non_Linear         0.5  14.244495\n",
       "332   Variant              0.8  Non_Linear           1  10.072880\n",
       "333   Variant              0.8  Non_Linear           2   7.122670\n",
       "334   Variant              0.8  Non_Linear           4   5.035941\n",
       "335   Variant              0.8  Non_Linear           5   4.503904\n",
       "\n",
       "[336 rows x 5 columns]"
      ]
     },
     "execution_count": 25,
     "metadata": {},
     "output_type": "execute_result"
    }
   ],
   "source": [
    "df"
   ]
  },
  {
   "cell_type": "code",
   "execution_count": 26,
   "metadata": {},
   "outputs": [],
   "source": [
    "freq_values = df['Frequency'].unique()"
   ]
  },
  {
   "cell_type": "code",
   "execution_count": 27,
   "metadata": {},
   "outputs": [
    {
     "data": {
      "text/plain": [
       "array(['Constant', 'Two_Constant', 'Two_Close', 'Variant'], dtype=object)"
      ]
     },
     "execution_count": 27,
     "metadata": {},
     "output_type": "execute_result"
    }
   ],
   "source": [
    "freq_values"
   ]
  },
  {
   "cell_type": "code",
   "execution_count": 28,
   "metadata": {},
   "outputs": [
    {
     "data": {
      "image/png": "[encoded data removed]",
      "text/plain": [
       "<Figure size 720x360 with 1 Axes>"
      ]
     },
     "metadata": {
      "needs_background": "light"
     },
     "output_type": "display_data"
    },
    {
     "data": {
      "image/png": "[encoded data removed]",
      "text/plain": [
       "<Figure size 720x360 with 1 Axes>"
      ]
     },
     "metadata": {},
     "output_type": "display_data"
    },
    {
     "data": {
      "image/png": "[encoded data removed]",
      "text/plain": [
       "<Figure size 720x360 with 1 Axes>"
      ]
     },
     "metadata": {},
     "output_type": "display_data"
    },
    {
     "data": {
      "image/png": "[encoded data removed]",
      "text/plain": [
       "<Figure size 720x360 with 1 Axes>"
      ]
     },
     "metadata": {},
     "output_type": "display_data"
    }
   ],
   "source": [
    "for freq in freq_values:\n",
    "    df_freq = df.loc[df['Frequency']==freq][df['Trend']=='No']\n",
    "    plt.figure(figsize=(10,5))\n",
    "    plt.title(freq)\n",
    "    sns.set(style=\"darkgrid\")\n",
    "    sns.set_palette(\"Set1\",3)\n",
    "    plt.legend(loc='center left', bbox_to_anchor=(1.25, 0.5), ncol=1)\n",
    "    \n",
    "    sns.scatterplot(x='White Noise',y='RMSE_diff',data=df_freq,s=100,cmap='Accent',style='Deleted Percent')\n",
    "    "
   ]
  },
  {
   "cell_type": "markdown",
   "metadata": {},
   "source": [
    "# Binning"
   ]
  },
  {
   "cell_type": "code",
   "execution_count": null,
   "metadata": {},
   "outputs": [],
   "source": [
    "diff_combinations_1 = list(product(freq,delete_perc,snr))"
   ]
  },
  {
   "cell_type": "code",
   "execution_count": 148,
   "metadata": {},
   "outputs": [],
   "source": [
    "result_bin = pd.DataFrame(columns=['Frequency','Deleted Percent','White Noise','RMSE'])"
   ]
  },
  {
   "cell_type": "code",
   "execution_count": 149,
   "metadata": {},
   "outputs": [],
   "source": [
    "\n",
    "for value in diff_combinations_1:\n",
    "   \n",
    "    freq,del_perc,snr = value\n",
    "    \n",
    "    signal = generate_signal(freq)\n",
    "   \n",
    "    \n",
    "    if snr!=0:\n",
    "        signal = add_white_noise(signal,snr)\n",
    "  \n",
    "    \n",
    "    uneven_signal = delete_points(signal,del_perc)\n",
    "    bin_size = np.nanmean(np.diff(uneven_signal.index))\n",
    "    bins, binned_values, n, error = tsutils.bin_values(uneven_signal.index,uneven_signal.values,bin_size=bin_size)\n",
    "    bins_1, binned_values_1, n_1, error_1 = tsutils.bin_values(uneven_signal.index,signal.values,bin_size=bin_size)\n",
    "    a =np.array(binned_values)\n",
    "    b = np.array(binned_values_1)\n",
    "   \n",
    "   \n",
    "    \n",
    "    rmse = np.sqrt(np.nanmean((a-b)**2))\n",
    "    temp = [freq,del_perc,snr,rmse]\n",
    "    result_bin.loc[len(result_bin.index)+1] = temp\n",
    "    result_bin.append(temp,ignore_index=True)\n",
    "    \n",
    "    \n",
    "    \n"
   ]
  },
  {
   "cell_type": "code",
   "execution_count": 150,
   "metadata": {},
   "outputs": [
    {
     "data": {
      "text/html": [
       "<div>\n",
       "<style scoped>\n",
       "    .dataframe tbody tr th:only-of-type {\n",
       "        vertical-align: middle;\n",
       "    }\n",
       "\n",
       "    .dataframe tbody tr th {\n",
       "        vertical-align: top;\n",
       "    }\n",
       "\n",
       "    .dataframe thead th {\n",
       "        text-align: right;\n",
       "    }\n",
       "</style>\n",
       "<table border=\"1\" class=\"dataframe\">\n",
       "  <thead>\n",
       "    <tr style=\"text-align: right;\">\n",
       "      <th></th>\n",
       "      <th>Frequency</th>\n",
       "      <th>Deleted Percent</th>\n",
       "      <th>White Noise</th>\n",
       "      <th>RMSE</th>\n",
       "    </tr>\n",
       "  </thead>\n",
       "  <tbody>\n",
       "    <tr>\n",
       "      <th>1</th>\n",
       "      <td>Constant</td>\n",
       "      <td>0.2</td>\n",
       "      <td>0</td>\n",
       "      <td>0.991676</td>\n",
       "    </tr>\n",
       "    <tr>\n",
       "      <th>2</th>\n",
       "      <td>Constant</td>\n",
       "      <td>0.2</td>\n",
       "      <td>0.25</td>\n",
       "      <td>2.165890</td>\n",
       "    </tr>\n",
       "    <tr>\n",
       "      <th>3</th>\n",
       "      <td>Constant</td>\n",
       "      <td>0.2</td>\n",
       "      <td>0.5</td>\n",
       "      <td>1.680713</td>\n",
       "    </tr>\n",
       "    <tr>\n",
       "      <th>4</th>\n",
       "      <td>Constant</td>\n",
       "      <td>0.2</td>\n",
       "      <td>1</td>\n",
       "      <td>1.377868</td>\n",
       "    </tr>\n",
       "    <tr>\n",
       "      <th>5</th>\n",
       "      <td>Constant</td>\n",
       "      <td>0.2</td>\n",
       "      <td>2</td>\n",
       "      <td>1.200100</td>\n",
       "    </tr>\n",
       "    <tr>\n",
       "      <th>...</th>\n",
       "      <td>...</td>\n",
       "      <td>...</td>\n",
       "      <td>...</td>\n",
       "      <td>...</td>\n",
       "    </tr>\n",
       "    <tr>\n",
       "      <th>108</th>\n",
       "      <td>Variant</td>\n",
       "      <td>0.8</td>\n",
       "      <td>0.5</td>\n",
       "      <td>1.583572</td>\n",
       "    </tr>\n",
       "    <tr>\n",
       "      <th>109</th>\n",
       "      <td>Variant</td>\n",
       "      <td>0.8</td>\n",
       "      <td>1</td>\n",
       "      <td>1.321506</td>\n",
       "    </tr>\n",
       "    <tr>\n",
       "      <th>110</th>\n",
       "      <td>Variant</td>\n",
       "      <td>0.8</td>\n",
       "      <td>2</td>\n",
       "      <td>1.170386</td>\n",
       "    </tr>\n",
       "    <tr>\n",
       "      <th>111</th>\n",
       "      <td>Variant</td>\n",
       "      <td>0.8</td>\n",
       "      <td>4</td>\n",
       "      <td>1.088303</td>\n",
       "    </tr>\n",
       "    <tr>\n",
       "      <th>112</th>\n",
       "      <td>Variant</td>\n",
       "      <td>0.8</td>\n",
       "      <td>5</td>\n",
       "      <td>1.071384</td>\n",
       "    </tr>\n",
       "  </tbody>\n",
       "</table>\n",
       "<p>112 rows × 4 columns</p>\n",
       "</div>"
      ],
      "text/plain": [
       "    Frequency  Deleted Percent White Noise      RMSE\n",
       "1    Constant              0.2           0  0.991676\n",
       "2    Constant              0.2        0.25  2.165890\n",
       "3    Constant              0.2         0.5  1.680713\n",
       "4    Constant              0.2           1  1.377868\n",
       "5    Constant              0.2           2  1.200100\n",
       "..        ...              ...         ...       ...\n",
       "108   Variant              0.8         0.5  1.583572\n",
       "109   Variant              0.8           1  1.321506\n",
       "110   Variant              0.8           2  1.170386\n",
       "111   Variant              0.8           4  1.088303\n",
       "112   Variant              0.8           5  1.071384\n",
       "\n",
       "[112 rows x 4 columns]"
      ]
     },
     "execution_count": 150,
     "metadata": {},
     "output_type": "execute_result"
    }
   ],
   "source": [
    "result_bin"
   ]
  },
  {
   "cell_type": "code",
   "execution_count": 156,
   "metadata": {},
   "outputs": [],
   "source": [
    "freq_bin = result_bin['Frequency'].unique()"
   ]
  },
  {
   "cell_type": "code",
   "execution_count": 157,
   "metadata": {},
   "outputs": [
    {
     "data": {
      "text/plain": [
       "array(['Constant', 'Two_Constant', 'Two_Close', 'Variant'], dtype=object)"
      ]
     },
     "execution_count": 157,
     "metadata": {},
     "output_type": "execute_result"
    }
   ],
   "source": [
    "freq_bin"
   ]
  },
  {
   "cell_type": "code",
   "execution_count": 158,
   "metadata": {},
   "outputs": [
    {
     "data": {
      "image/png": "[encoded data removed]",
      "text/plain": [
       "<Figure size 720x360 with 1 Axes>"
      ]
     },
     "metadata": {},
     "output_type": "display_data"
    },
    {
     "data": {
      "image/png": "[encoded data removed]",
      "text/plain": [
       "<Figure size 720x360 with 1 Axes>"
      ]
     },
     "metadata": {},
     "output_type": "display_data"
    },
    {
     "data": {
      "image/png": "[encoded data removed]",
      "text/plain": [
       "<Figure size 720x360 with 1 Axes>"
      ]
     },
     "metadata": {},
     "output_type": "display_data"
    },
    {
     "data": {
      "image/png": "[encoded data removed]",
      "text/plain": [
       "<Figure size 720x360 with 1 Axes>"
      ]
     },
     "metadata": {},
     "output_type": "display_data"
    }
   ],
   "source": [
    "for freq in freq_bin:\n",
    "    df_freq = result_bin.loc[result_bin['Frequency']==freq]\n",
    "    plt.figure(figsize=(10,5))\n",
    "    plt.title(freq)\n",
    "    sns.set(style=\"darkgrid\")\n",
    "            \n",
    "    sns.set_palette(\"Set1\",3)\n",
    "    plt.legend(loc='center left', bbox_to_anchor=(1.25, 0.5), ncol=1)\n",
    "    \n",
    "    sns.scatterplot(x='White Noise',y='RMSE',data=df_freq,s=100,cmap='Accent',style='Deleted Percent')\n",
    "    "
   ]
  },
  {
   "cell_type": "code",
   "execution_count": null,
   "metadata": {},
   "outputs": [],
   "source": []
  }
 ],
 "metadata": {
  "kernelspec": {
   "display_name": "Python 3",
   "language": "python",
   "name": "python3"
  },
  "language_info": {
   "codemirror_mode": {
    "name": "ipython",
    "version": 3
   },
   "file_extension": ".py",
   "mimetype": "text/x-python",
   "name": "python",
   "nbconvert_exporter": "python",
   "pygments_lexer": "ipython3",
   "version": "3.7.6"
  }
 },
 "nbformat": 4,
 "nbformat_minor": 4
}
