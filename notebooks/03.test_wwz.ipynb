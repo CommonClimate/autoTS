{
 "cells": [
  {
   "cell_type": "markdown",
   "metadata": {},
   "source": [
    "NOTE: Before running this notebook, one may need to install the packages below if using Jupyterlab\n",
    "```bash\n",
    "conda install -c conda-forge nodejs\n",
    "jupyter labextension install @jupyter-widgets/jupyterlab-manager\n",
    "```"
   ]
  },
  {
   "cell_type": "code",
   "execution_count": 12,
   "metadata": {},
   "outputs": [
    {
     "name": "stdout",
     "output_type": "stream",
     "text": [
      "The autoreload extension is already loaded. To reload it, use:\n",
      "  %reload_ext autoreload\n"
     ]
    }
   ],
   "source": [
    "%load_ext autoreload\n",
    "%autoreload 2\n",
    "import numpy as np\n",
    "import pandas as pd\n",
    "import spectrum\n",
    "from pyleoclim import Spectral\n",
    "import seaborn as sns\n",
    "import matplotlib.pyplot as plt\n",
    "from matplotlib.ticker import ScalarFormatter, FormatStrFormatter\n",
    "import LMRt\n",
    "from tqdm import tqdm\n",
    "\n",
    "from IPython.display import display\n",
    "from ipywidgets import interact, interactive, fixed, interact_manual\n",
    "import ipywidgets as widgets"
   ]
  },
  {
   "cell_type": "code",
   "execution_count": 24,
   "metadata": {},
   "outputs": [],
   "source": [
    "def run_wwz(series, xlim=[0, 0.05], label='WWZ', c=1e-3, loglog=False, title=None):\n",
    "    time = series.index.values\n",
    "    signal = series.values\n",
    "    tau = np.linspace(np.min(time), np.max(time), 21)\n",
    "    res_psd = Spectral.wwz_psd(signal, time, tau=tau, c=c, nMC=0, standardize=False)\n",
    "    \n",
    "    sns.set(style='ticks', font_scale=1.5)\n",
    "    fig = plt.figure(figsize=[10, 10])                                                                                                                                           \n",
    "    ax_signal = plt.subplot(2, 1, 1)\n",
    "    ax_signal.plot(time, signal, label='signal')                                                                                                                                                          \n",
    "    ax_signal.spines['right'].set_visible(False)\n",
    "    ax_signal.spines['top'].set_visible(False)\n",
    "    ax_signal.set_ylabel('Value')\n",
    "    ax_signal.set_xlabel('Time')\n",
    "    if title:\n",
    "        ax_signal.set_title(title)\n",
    "    \n",
    "    ax_spec = plt.subplot(2, 1, 2)\n",
    "    if loglog:\n",
    "        ax_spec.loglog(res_psd.freqs, res_psd.psd, lw=3, label=label)                                                                                                                                                          \n",
    "    else:\n",
    "        ax_spec.plot(res_psd.freqs, res_psd.psd, lw=3, label=label)                                                                                                                                                          \n",
    "        ax_spec.set_xlim(xlim)\n",
    "        \n",
    "    ax_spec.get_xaxis().set_major_formatter(ScalarFormatter())\n",
    "    ax_spec.xaxis.set_major_formatter(FormatStrFormatter('%g'))\n",
    "    ax_spec.set_ylabel('Spectral Density')                                                                                                                                                 \n",
    "    ax_spec.set_xlabel('Frequency')                                                                                                                                                   \n",
    "    ax_spec.legend(frameon=False)\n",
    "    ax_spec.spines['right'].set_visible(False)\n",
    "    ax_spec.spines['top'].set_visible(False)\n",
    "    \n",
    "    return fig, res_psd\n",
    "\n",
    "# creat a DataFrame to store the data\n",
    "df = pd.DataFrame()"
   ]
  },
  {
   "cell_type": "code",
   "execution_count": 25,
   "metadata": {},
   "outputs": [],
   "source": [
    "time1 = np.arange(1000)\n",
    "f1 = 1/50\n",
    "signal1 = np.cos(2*np.pi*f1*time1)\n",
    "\n",
    "time2 = np.arange(1000, 2001)\n",
    "f2 = 1/60\n",
    "signal2 = np.cos(2*np.pi*f2*time2)\n",
    "\n",
    "signal = np.concatenate([signal1, signal2])\n",
    "time = np.concatenate([time1, time2])\n",
    "\n",
    "series = pd.Series(signal, index=time)\n",
    "df['two_freqs'] = series\n",
    "\n",
    "def interact_wwz(c):\n",
    "    print(f'c={c}')\n",
    "    return run_wwz(series, c=c)"
   ]
  },
  {
   "cell_type": "code",
   "execution_count": 26,
   "metadata": {},
   "outputs": [
    {
     "data": {
      "application/vnd.jupyter.widget-view+json": {
       "model_id": "eb8a38ed40114b58ae57cfe394579625",
       "version_major": 2,
       "version_minor": 0
      },
      "text/plain": [
       "interactive(children=(FloatSlider(value=0.0001, description='c', max=0.01, min=0.0001, step=0.0001), Output())…"
      ]
     },
     "metadata": {},
     "output_type": "display_data"
    },
    {
     "data": {
      "text/plain": [
       "<function __main__.interact_wwz(c)>"
      ]
     },
     "execution_count": 26,
     "metadata": {},
     "output_type": "execute_result"
    }
   ],
   "source": [
    "c = widgets.FloatSlider(min=1e-4, max=0.01, step=1e-4)\n",
    "widgets.interact(interact_wwz, c=c)"
   ]
  },
  {
   "cell_type": "code",
   "execution_count": null,
   "metadata": {},
   "outputs": [],
   "source": []
  }
 ],
 "metadata": {
  "kernelspec": {
   "display_name": "Python 3",
   "language": "python",
   "name": "python3"
  },
  "language_info": {
   "codemirror_mode": {
    "name": "ipython",
    "version": 3
   },
   "file_extension": ".py",
   "mimetype": "text/x-python",
   "name": "python",
   "nbconvert_exporter": "python",
   "pygments_lexer": "ipython3",
   "version": "3.7.4"
  }
 },
 "nbformat": 4,
 "nbformat_minor": 4
}
